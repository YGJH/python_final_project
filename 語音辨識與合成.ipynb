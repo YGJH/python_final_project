{
 "cells": [
  {
   "cell_type": "code",
   "execution_count": 1,
   "id": "2a248722",
   "metadata": {},
   "outputs": [
    {
     "name": "stdout",
     "output_type": "stream",
     "text": [
      "Defaulting to user installation because normal site-packages is not writeable\n",
      "Collecting SpeechRecognition\n",
      "  Downloading SpeechRecognition-3.12.0-py3-none-any.whl.metadata (30 kB)\n",
      "Requirement already satisfied: typing-extensions in c:\\programdata\\anaconda3\\lib\\site-packages (from SpeechRecognition) (4.11.0)\n",
      "Downloading SpeechRecognition-3.12.0-py3-none-any.whl (32.8 MB)\n",
      "   ---------------------------------------- 0.0/32.8 MB ? eta -:--:--\n",
      "   ---------------------------------------- 0.3/32.8 MB ? eta -:--:--\n",
      "   - -------------------------------------- 1.3/32.8 MB 5.2 MB/s eta 0:00:07\n",
      "   --- ------------------------------------ 2.9/32.8 MB 5.8 MB/s eta 0:00:06\n",
      "   ----- ---------------------------------- 4.2/32.8 MB 6.1 MB/s eta 0:00:05\n",
      "   ------ --------------------------------- 5.5/32.8 MB 6.0 MB/s eta 0:00:05\n",
      "   -------- ------------------------------- 6.8/32.8 MB 6.0 MB/s eta 0:00:05\n",
      "   --------- ------------------------------ 7.9/32.8 MB 6.0 MB/s eta 0:00:05\n",
      "   ----------- ---------------------------- 9.2/32.8 MB 6.1 MB/s eta 0:00:04\n",
      "   ------------ --------------------------- 10.5/32.8 MB 6.0 MB/s eta 0:00:04\n",
      "   -------------- ------------------------- 11.8/32.8 MB 6.1 MB/s eta 0:00:04\n",
      "   --------------- ------------------------ 13.1/32.8 MB 6.2 MB/s eta 0:00:04\n",
      "   ----------------- ---------------------- 14.7/32.8 MB 6.2 MB/s eta 0:00:03\n",
      "   ------------------- -------------------- 16.3/32.8 MB 6.2 MB/s eta 0:00:03\n",
      "   --------------------- ------------------ 17.8/32.8 MB 6.3 MB/s eta 0:00:03\n",
      "   ----------------------- ---------------- 19.4/32.8 MB 6.4 MB/s eta 0:00:03\n",
      "   ------------------------- -------------- 21.0/32.8 MB 6.4 MB/s eta 0:00:02\n",
      "   --------------------------- ------------ 22.5/32.8 MB 6.5 MB/s eta 0:00:02\n",
      "   ----------------------------- ---------- 24.1/32.8 MB 6.6 MB/s eta 0:00:02\n",
      "   ------------------------------ --------- 25.4/32.8 MB 6.6 MB/s eta 0:00:02\n",
      "   -------------------------------- ------- 27.0/32.8 MB 6.7 MB/s eta 0:00:01\n",
      "   ---------------------------------- ----- 28.6/32.8 MB 6.7 MB/s eta 0:00:01\n",
      "   ------------------------------------ --- 30.1/32.8 MB 6.8 MB/s eta 0:00:01\n",
      "   -------------------------------------- - 31.7/32.8 MB 6.8 MB/s eta 0:00:01\n",
      "   ---------------------------------------- 32.8/32.8 MB 6.7 MB/s eta 0:00:00\n",
      "Installing collected packages: SpeechRecognition\n",
      "Successfully installed SpeechRecognition-3.12.0\n"
     ]
    },
    {
     "name": "stderr",
     "output_type": "stream",
     "text": [
      "DEPRECATION: Loading egg at c:\\programdata\\anaconda3\\lib\\site-packages\\cytro-0.2.1-py3.12.egg is deprecated. pip 25.1 will enforce this behaviour change. A possible replacement is to use pip for package installation. Discussion can be found at https://github.com/pypa/pip/issues/12330\n",
      "DEPRECATION: Loading egg at c:\\programdata\\anaconda3\\lib\\site-packages\\ddddocr-1.5.5-py3.12.egg is deprecated. pip 25.1 will enforce this behaviour change. A possible replacement is to use pip for package installation. Discussion can be found at https://github.com/pypa/pip/issues/12330\n"
     ]
    },
    {
     "name": "stdout",
     "output_type": "stream",
     "text": [
      "Defaulting to user installation because normal site-packages is not writeable\n",
      "Collecting pyaudio\n",
      "  Downloading PyAudio-0.2.14-cp312-cp312-win_amd64.whl.metadata (2.7 kB)\n",
      "Downloading PyAudio-0.2.14-cp312-cp312-win_amd64.whl (164 kB)\n",
      "Installing collected packages: pyaudio\n",
      "Successfully installed pyaudio-0.2.14\n"
     ]
    },
    {
     "name": "stderr",
     "output_type": "stream",
     "text": [
      "DEPRECATION: Loading egg at c:\\programdata\\anaconda3\\lib\\site-packages\\cytro-0.2.1-py3.12.egg is deprecated. pip 25.1 will enforce this behaviour change. A possible replacement is to use pip for package installation. Discussion can be found at https://github.com/pypa/pip/issues/12330\n",
      "DEPRECATION: Loading egg at c:\\programdata\\anaconda3\\lib\\site-packages\\ddddocr-1.5.5-py3.12.egg is deprecated. pip 25.1 will enforce this behaviour change. A possible replacement is to use pip for package installation. Discussion can be found at https://github.com/pypa/pip/issues/12330\n"
     ]
    },
    {
     "name": "stdout",
     "output_type": "stream",
     "text": [
      "Defaulting to user installation because normal site-packages is not writeable\n",
      "Collecting pyttsx3\n",
      "  Downloading pyttsx3-2.98-py3-none-any.whl.metadata (3.8 kB)\n",
      "Collecting comtypes (from pyttsx3)\n",
      "  Downloading comtypes-1.4.8-py3-none-any.whl.metadata (7.1 kB)\n",
      "Collecting pypiwin32 (from pyttsx3)\n",
      "  Downloading pypiwin32-223-py3-none-any.whl.metadata (236 bytes)\n",
      "Requirement already satisfied: pywin32 in c:\\programdata\\anaconda3\\lib\\site-packages (from pyttsx3) (305.1)\n",
      "Downloading pyttsx3-2.98-py3-none-any.whl (34 kB)\n",
      "Downloading comtypes-1.4.8-py3-none-any.whl (229 kB)\n",
      "Downloading pypiwin32-223-py3-none-any.whl (1.7 kB)\n",
      "Installing collected packages: pypiwin32, comtypes, pyttsx3\n",
      "Successfully installed comtypes-1.4.8 pypiwin32-223 pyttsx3-2.98\n"
     ]
    },
    {
     "name": "stderr",
     "output_type": "stream",
     "text": [
      "DEPRECATION: Loading egg at c:\\programdata\\anaconda3\\lib\\site-packages\\cytro-0.2.1-py3.12.egg is deprecated. pip 25.1 will enforce this behaviour change. A possible replacement is to use pip for package installation. Discussion can be found at https://github.com/pypa/pip/issues/12330\n",
      "DEPRECATION: Loading egg at c:\\programdata\\anaconda3\\lib\\site-packages\\ddddocr-1.5.5-py3.12.egg is deprecated. pip 25.1 will enforce this behaviour change. A possible replacement is to use pip for package installation. Discussion can be found at https://github.com/pypa/pip/issues/12330\n"
     ]
    }
   ],
   "source": [
    "try:\n",
    "  import speech_recognition as sr\n",
    "except:\n",
    "  !pip install SpeechRecognition\n",
    "  import speech_recognition as sr\n",
    "try:\n",
    "  import pyaudio\n",
    "except:\n",
    "  !pip install pyaudio\n",
    "  import pyaudio\n",
    "    \n",
    "try:\n",
    "  import pyttsx3\n",
    "except:\n",
    "  !pip install pyttsx3\n",
    "  import pyttsx3\n",
    "\n",
    "#若要用OpenAI的whisper，請執行下面指令，以安裝必要檔案。\n",
    "#!pip install git+https://github.com/openai/whisper.git soundfile"
   ]
  },
  {
   "cell_type": "markdown",
   "id": "bd80fb5c",
   "metadata": {},
   "source": [
    "## 使用<a href='https://pypi.org/project/SpeechRecognition/' target='blanks_'>SpeechRecoginition</a>模組\n",
    "\n",
    "<font style='color:red'>請注意SpeechRecognition模組裡Requirements的說明。</font>\n",
    "\n",
    "使用範例:\n",
    "\n",
    "1. 從麥克風辨識語音: <a href='https://github.com/Uberi/speech_recognition/blob/master/examples/microphone_recognition.py' target='blanks_'>官方範例</a>\n",
    "\n",
    "2. 從檔案辨識語音: <a href='https://github.com/Uberi/speech_recognition/blob/master/examples/audio_transcribe.py' target='blanks_'>官方範例</a>\n",
    "\n",
    "\n",
    "\n",
    "#### 使用google語音辨識 程式樣板\n",
    "    def bot_listening():\n",
    "      rg = sr.Recognizer()\n",
    "      with sr.Microphone() as source: # 語音來源\n",
    "        audioData = rg.listen(source)\n",
    "        try:\n",
    "          text = rg.recognize_google(audioData, language='zh-tw')\n",
    "        except:\n",
    "          text = None\n",
    "      return text    \n",
    "+ language\n",
    "<a href='https://cloud.google.com/speech-to-text/docs/languages' target='blank_'>支持的語言及其代碼</a>"
   ]
  },
  {
   "cell_type": "code",
   "execution_count": 3,
   "id": "1d3ffb25",
   "metadata": {},
   "outputs": [],
   "source": [
    "# Python program to translate\n",
    "# speech to text and text to speech\n",
    " \n",
    "import speech_recognition as sr\n",
    "import pyttsx3 \n",
    " \n",
    "# Initialize the recognizer \n",
    "class SpeechToText:\n",
    "  def __init__(self):  \n",
    "    self.rg = sr.Recognizer()\n",
    "    \n",
    "  def listen(self):  \n",
    "    with sr.Microphone() as source:\n",
    "      self.rg.adjust_for_ambient_noise(source, duration=0.2)  \n",
    "      audioData = self.rg.listen(source)\n",
    "      try:\n",
    "        text = self.rg.recognize_google(audioData, language='zh-tw') \n",
    "#         text = self.rg.recognize_whisper(audioData,model='base',language='chinese') # model tiny, base, small, medium, large, tiny.en, base.en, small.en, medium.en\n",
    "      except:\n",
    "        text = ''\n",
    "    return text\n",
    "\n",
    "  def __call__(self):\n",
    "    return self.listen()    \n",
    "        \n",
    "# convert text to speech\n",
    "def text_to_speech(command):\n",
    "    # Initialize the engine\n",
    "    engine = pyttsx3.init()\n",
    "    engine.say(command) \n",
    "    engine.runAndWait()\n",
    "    \n",
    "speech_to_text = SpeechToText()    "
   ]
  },
  {
   "cell_type": "code",
   "execution_count": 4,
   "id": "0489dc4a",
   "metadata": {},
   "outputs": [
    {
     "name": "stdout",
     "output_type": "stream",
     "text": [
      "100隻\n"
     ]
    }
   ],
   "source": [
    "text_to_speech('14個頭38隻腳，請問雞兔共幾隻？')\n",
    "text = ''\n",
    "while text == '':\n",
    "    text = speech_to_text()\n",
    "    if text=='':\n",
    "      text_to_speech('聽不清楚')\n",
    "    else:\n",
    "      print(text)\n",
    "    \n",
    "text_to_speech(text)\n",
    "\n",
    "if text.find('14')>=0:\n",
    "    text_to_speech('答對了')\n",
    "else:\n",
    "    text_to_speech('答錯了')"
   ]
  },
  {
   "cell_type": "code",
   "execution_count": null,
   "id": "08c35f09",
   "metadata": {},
   "outputs": [],
   "source": []
  }
 ],
 "metadata": {
  "kernelspec": {
   "display_name": "Python 3",
   "language": "python",
   "name": "python3"
  },
  "language_info": {
   "codemirror_mode": {
    "name": "ipython",
    "version": 3
   },
   "file_extension": ".py",
   "mimetype": "text/x-python",
   "name": "python",
   "nbconvert_exporter": "python",
   "pygments_lexer": "ipython3",
   "version": "3.12.6"
  }
 },
 "nbformat": 4,
 "nbformat_minor": 5
}
